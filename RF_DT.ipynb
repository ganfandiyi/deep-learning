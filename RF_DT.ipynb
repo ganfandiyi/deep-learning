{
 "cells": [
  {
   "cell_type": "code",
   "execution_count": 3,
   "metadata": {},
   "outputs": [
    {
     "name": "stdout",
     "output_type": "stream",
     "text": [
      "['alcohol', 'malic_acid', 'ash', 'alcalinity_of_ash', 'magnesium', 'total_phenols', 'flavanoids', 'nonflavanoid_phenols', 'proanthocyanins', 'color_intensity', 'hue', 'od280/od315_of_diluted_wines', 'proline']\n",
      "['class_0' 'class_1' 'class_2']\n",
      "决策树分类器的准确率为： 0.9333333333333333\n"
     ]
    }
   ],
   "source": [
    "from sklearn import tree,datasets\n",
    "\n",
    "from sklearn.model_selection import train_test_split\n",
    "from sklearn.metrics import accuracy_score\n",
    "import pandas as pd\n",
    " \n",
    "# 加载数据集\n",
    "wine = datasets.load_wine()\n",
    "df1 = pd.concat([pd.DataFrame(wine.data), pd.DataFrame(wine.target)], axis=1)\n",
    "print(wine.feature_names)\n",
    "#查看标签\n",
    "print(wine.target_names)\n",
    "\n",
    "X = wine.data\n",
    "y = wine.target\n",
    " \n",
    "# 将数据集分成训练集和测试集\n",
    "X_train, X_test, y_train, y_test = train_test_split(X, y, test_size=0.25, random_state=1)\n",
    " \n",
    "# 创建一个决策树分类器\n",
    "dc_tree = tree.DecisionTreeClassifier(criterion='entropy',max_depth=2)\n",
    " \n",
    "# 使用训练集训练分类器\n",
    "dc_tree.fit(X_train, y_train)\n",
    " \n",
    "# 使用测试集进行预测\n",
    "y_pred = dc_tree.predict(X_test)\n",
    " \n",
    "# 计算分类器的准确率\n",
    "accuracy = accuracy_score(y_test, y_pred)\n",
    " \n",
    "print(\"决策树分类器的准确率为：\", accuracy)"
   ]
  },
  {
   "cell_type": "code",
   "execution_count": 6,
   "metadata": {},
   "outputs": [
    {
     "name": "stdout",
     "output_type": "stream",
     "text": [
      "随机森林分类器的准确率为： 0.9777777777777777\n"
     ]
    }
   ],
   "source": [
    "from sklearn.ensemble import RandomForestClassifier\n",
    "#设定随机森林中有6棵树\n",
    "forest = RandomForestClassifier(n_estimators=6,random_state=3)\n",
    "#使用模型拟合数据\n",
    "forest.fit(X_train,y_train)\n",
    "# 使用测试集进行预测\n",
    "y_pred = forest.predict(X_test)\n",
    "# 计算分类器的准确率\n",
    "accuracy = accuracy_score(y_test, y_pred)\n",
    " \n",
    "print(\"随机森林分类器的准确率为：\", accuracy)"
   ]
  },
  {
   "cell_type": "code",
   "execution_count": null,
   "metadata": {},
   "outputs": [],
   "source": []
  }
 ],
 "metadata": {
  "kernelspec": {
   "display_name": "Python 3.8.5 ('base')",
   "language": "python",
   "name": "python3"
  },
  "language_info": {
   "codemirror_mode": {
    "name": "ipython",
    "version": 3
   },
   "file_extension": ".py",
   "mimetype": "text/x-python",
   "name": "python",
   "nbconvert_exporter": "python",
   "pygments_lexer": "ipython3",
   "version": "3.8.5"
  },
  "orig_nbformat": 4,
  "vscode": {
   "interpreter": {
    "hash": "deee9092494de3f243baafa6e8f13ed865fb0b4f248d8311ed438590712b6c6f"
   }
  }
 },
 "nbformat": 4,
 "nbformat_minor": 2
}
