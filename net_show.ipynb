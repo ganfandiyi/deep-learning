{
 "cells": [
  {
   "cell_type": "code",
   "execution_count": 7,
   "metadata": {},
   "outputs": [
    {
     "name": "stdout",
     "output_type": "stream",
     "text": [
      "AlexNet(\n",
      "  (features): Sequential(\n",
      "    (0): Conv2d(3, 64, kernel_size=(11, 11), stride=(4, 4), padding=(2, 2))\n",
      "    (1): ReLU(inplace=True)\n",
      "    (2): MaxPool2d(kernel_size=3, stride=2, padding=0, dilation=1, ceil_mode=False)\n",
      "    (3): Conv2d(64, 192, kernel_size=(5, 5), stride=(1, 1), padding=(2, 2))\n",
      "    (4): ReLU(inplace=True)\n",
      "    (5): MaxPool2d(kernel_size=3, stride=2, padding=0, dilation=1, ceil_mode=False)\n",
      "    (6): Conv2d(192, 384, kernel_size=(3, 3), stride=(1, 1), padding=(1, 1))\n",
      "    (7): ReLU(inplace=True)\n",
      "    (8): Conv2d(384, 256, kernel_size=(3, 3), stride=(1, 1), padding=(1, 1))\n",
      "    (9): ReLU(inplace=True)\n",
      "    (10): Conv2d(256, 256, kernel_size=(3, 3), stride=(1, 1), padding=(1, 1))\n",
      "    (11): ReLU(inplace=True)\n",
      "    (12): MaxPool2d(kernel_size=3, stride=2, padding=0, dilation=1, ceil_mode=False)\n",
      "  )\n",
      "  (avgpool): AdaptiveAvgPool2d(output_size=(6, 6))\n",
      "  (classifier): Sequential(\n",
      "    (0): Dropout(p=0.5, inplace=False)\n",
      "    (1): Linear(in_features=9216, out_features=4096, bias=True)\n",
      "    (2): ReLU(inplace=True)\n",
      "    (3): Dropout(p=0.5, inplace=False)\n",
      "    (4): Linear(in_features=4096, out_features=4096, bias=True)\n",
      "    (5): ReLU(inplace=True)\n",
      "    (6): Linear(in_features=4096, out_features=1000, bias=True)\n",
      "  )\n",
      ")\n",
      "Conv2d(64, 192, kernel_size=(5, 5), stride=(1, 1), padding=(2, 2))\n",
      "Conv2d(3, 64, kernel_size=(11, 11), stride=(4, 4), padding=(2, 2))\n",
      "ReLU(inplace=True)\n",
      "MaxPool2d(kernel_size=3, stride=2, padding=0, dilation=1, ceil_mode=False)\n",
      "Conv2d(64, 192, kernel_size=(5, 5), stride=(1, 1), padding=(2, 2))\n",
      "ReLU(inplace=True)\n",
      "MaxPool2d(kernel_size=3, stride=2, padding=0, dilation=1, ceil_mode=False)\n",
      "Conv2d(192, 384, kernel_size=(3, 3), stride=(1, 1), padding=(1, 1))\n",
      "ReLU(inplace=True)\n",
      "Conv2d(384, 256, kernel_size=(3, 3), stride=(1, 1), padding=(1, 1))\n",
      "ReLU(inplace=True)\n",
      "Conv2d(256, 256, kernel_size=(3, 3), stride=(1, 1), padding=(1, 1))\n",
      "ReLU(inplace=True)\n",
      "MaxPool2d(kernel_size=3, stride=2, padding=0, dilation=1, ceil_mode=False)\n"
     ]
    }
   ],
   "source": [
    "import torch\n",
    "from torchvision import models, transforms\n",
    "from PIL import Image\n",
    "import matplotlib.pyplot as plt\n",
    "import numpy as np\n",
    "import scipy.misc\n",
    "plt.rcParams['font.sans-serif']=['STSong']\n",
    "import torchvision.models as models\n",
    "model = models.alexnet(pretrained=True)\n",
    "\n",
    "#1.模型查看\n",
    "print(model)#可以看出网络一共有3层，两个Sequential()+avgpool\n",
    "model_features = list(model.children())\n",
    "print(model_features[0][3])#取第0层Sequential()中的第四层\n",
    "for index,layer in enumerate(model_features[0]):\n",
    "    print(layer)\n",
    "\n",
    "\n",
    "#2. 导入数据\n",
    "def get_image_info(image_dir):\n",
    "    image_info = Image.open(image_dir).convert('RGB')#是一幅图片\n",
    "    # 数据预处理方法\n",
    "    image_transform = transforms.Compose([\n",
    "        transforms.Resize(256),\n",
    "        transforms.CenterCrop(224),\n",
    "        transforms.ToTensor(),\n",
    "        transforms.Normalize([0.485, 0.456, 0.406], [0.229, 0.224, 0.225])\n",
    "    ])\n",
    "    image_info = image_transform(image_info)#torch.Size([3, 224, 224])\n",
    "    image_info = image_info.unsqueeze(0)#torch.Size([1, 3, 224, 224])因为model的输入要求是4维，所以变成4维\n",
    "    return image_info#变成tensor数据\n",
    "\n",
    "\n",
    "#2. 获取第k层的特征图\n",
    "'''\n",
    "args:\n",
    "k:定义提取第几层的feature map\n",
    "x:图片的tensor\n",
    "model_layer：是一个Sequential()特征层\n",
    "'''\n",
    "def get_k_layer_feature_map(model_layer, k, x):\n",
    "    with torch.no_grad():\n",
    "        for index, layer in enumerate(model_layer):#model的第一个Sequential()是有多层，所以遍历\n",
    "            x = layer(x)#torch.Size([1, 64, 55, 55])生成了64个通道\n",
    "            if k == index:\n",
    "                return x\n",
    "\n",
    "\n",
    "#  可视化特征图\n",
    "def show_feature_map(feature_map):#feature_map=torch.Size([1, 64, 55, 55]),feature_map[0].shape=torch.Size([64, 55, 55])\n",
    "                                                                         # feature_map[2].shape     out of bounds\n",
    "    feature_map = feature_map.squeeze(0)#压缩成torch.Size([64, 55, 55])\n",
    "    \n",
    "    #以下4行，通过双线性插值的方式改变保存图像的大小\n",
    "    feature_map =feature_map.view(1,feature_map.shape[0],feature_map.shape[1],feature_map.shape[2])#(1,64,55,55)\n",
    "    upsample = torch.nn.UpsamplingBilinear2d(size=(256,256))#这里进行调整大小\n",
    "    feature_map = upsample(feature_map)\n",
    "    feature_map = feature_map.view(feature_map.shape[1],feature_map.shape[2],feature_map.shape[3])\n",
    "    \n",
    "    feature_map_num = feature_map.shape[0]#返回通道数\n",
    "    row_num = np.ceil(np.sqrt(feature_map_num))#8\n",
    "    plt.figure()\n",
    "    for index in range(1, feature_map_num + 1):#通过遍历的方式，将64个通道的tensor拿出\n",
    "\n",
    "        plt.subplot(row_num, row_num, index)\n",
    "        plt.imshow(feature_map[index - 1], cmap='gray')#feature_map[0].shape=torch.Size([55, 55])\n",
    "        #将上行代码替换成，可显示彩色 plt.imshow(transforms.ToPILImage()(feature_map[index - 1]))#feature_map[0].shape=torch.Size([55, 55])\n",
    "        plt.axis('off')\n",
    "        #scipy.misc.imsave( 'feature_map_save//'+str(index) + \".png\", feature_map[index - 1])\n",
    "    plt.show()"
   ]
  },
  {
   "cell_type": "code",
   "execution_count": 8,
   "metadata": {},
   "outputs": [
    {
     "ename": "TypeError",
     "evalue": "'AdaptiveAvgPool2d' object is not iterable",
     "output_type": "error",
     "traceback": [
      "\u001b[1;31m---------------------------------------------------------------------------\u001b[0m",
      "\u001b[1;31mTypeError\u001b[0m                                 Traceback (most recent call last)",
      "Cell \u001b[1;32mIn[8], line 10\u001b[0m\n\u001b[0;32m      7\u001b[0m model_layer\u001b[38;5;241m=\u001b[39m \u001b[38;5;28mlist\u001b[39m(model\u001b[38;5;241m.\u001b[39mchildren())\n\u001b[0;32m      8\u001b[0m model_layer\u001b[38;5;241m=\u001b[39mmodel_layer[\u001b[38;5;241m1\u001b[39m]\u001b[38;5;66;03m#这里选择model的第一个Sequential()\u001b[39;00m\n\u001b[1;32m---> 10\u001b[0m feature_map \u001b[38;5;241m=\u001b[39m \u001b[43mget_k_layer_feature_map\u001b[49m\u001b[43m(\u001b[49m\u001b[43mmodel_layer\u001b[49m\u001b[43m,\u001b[49m\u001b[43m \u001b[49m\u001b[43mk\u001b[49m\u001b[43m,\u001b[49m\u001b[43m \u001b[49m\u001b[43mimage_info\u001b[49m\u001b[43m)\u001b[49m\n\u001b[0;32m     11\u001b[0m show_feature_map(feature_map)\n",
      "Cell \u001b[1;32mIn[7], line 43\u001b[0m, in \u001b[0;36mget_k_layer_feature_map\u001b[1;34m(model_layer, k, x)\u001b[0m\n\u001b[0;32m     41\u001b[0m \u001b[38;5;28;01mdef\u001b[39;00m \u001b[38;5;21mget_k_layer_feature_map\u001b[39m(model_layer, k, x):\n\u001b[0;32m     42\u001b[0m     \u001b[38;5;28;01mwith\u001b[39;00m torch\u001b[38;5;241m.\u001b[39mno_grad():\n\u001b[1;32m---> 43\u001b[0m         \u001b[38;5;28;01mfor\u001b[39;00m index, layer \u001b[38;5;129;01min\u001b[39;00m \u001b[38;5;28;43menumerate\u001b[39;49m\u001b[43m(\u001b[49m\u001b[43mmodel_layer\u001b[49m\u001b[43m)\u001b[49m:\u001b[38;5;66;03m#model的第一个Sequential()是有多层，所以遍历\u001b[39;00m\n\u001b[0;32m     44\u001b[0m             x \u001b[38;5;241m=\u001b[39m layer(x)\u001b[38;5;66;03m#torch.Size([1, 64, 55, 55])生成了64个通道\u001b[39;00m\n\u001b[0;32m     45\u001b[0m             \u001b[38;5;28;01mif\u001b[39;00m k \u001b[38;5;241m==\u001b[39m index:\n",
      "\u001b[1;31mTypeError\u001b[0m: 'AdaptiveAvgPool2d' object is not iterable"
     ]
    }
   ],
   "source": [
    "image_dir = r\"car.png\"\n",
    "# 定义提取第几层的feature map\n",
    "k = 0\n",
    "image_info = get_image_info(image_dir)\n",
    "\n",
    "model = models.alexnet(pretrained=True)\n",
    "model_layer= list(model.children())\n",
    "model_layer=model_layer[1]#这里选择model的第一个Sequential()\n",
    "\n",
    "feature_map = get_k_layer_feature_map(model_layer, k, image_info)\n",
    "show_feature_map(feature_map)"
   ]
  }
 ],
 "metadata": {
  "kernelspec": {
   "display_name": "Python 3.8.5 ('base')",
   "language": "python",
   "name": "python3"
  },
  "language_info": {
   "codemirror_mode": {
    "name": "ipython",
    "version": 3
   },
   "file_extension": ".py",
   "mimetype": "text/x-python",
   "name": "python",
   "nbconvert_exporter": "python",
   "pygments_lexer": "ipython3",
   "version": "3.8.5"
  },
  "orig_nbformat": 4,
  "vscode": {
   "interpreter": {
    "hash": "deee9092494de3f243baafa6e8f13ed865fb0b4f248d8311ed438590712b6c6f"
   }
  }
 },
 "nbformat": 4,
 "nbformat_minor": 2
}
