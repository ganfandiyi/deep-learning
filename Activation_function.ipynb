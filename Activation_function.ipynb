{
 "cells": [
  {
   "cell_type": "code",
   "execution_count": 1,
   "metadata": {},
   "outputs": [],
   "source": [
    "import numpy as np\n",
    "\n",
    "def sigmoid(x):\n",
    "    return 1 / (1 + np.exp(-x))\n",
    "\n",
    "def tanh(x):\n",
    "    return (np.exp(x) - np.exp(-x)) / (np.exp(x) + np.exp(-x))\n",
    "\n",
    "def relu(x):\n",
    "    return np.maximum(0,x)\n",
    "\n",
    "def leakyrelu(x,gamma):\n",
    "    x = np.where(x>0,x,x*gamma)\n",
    "    return x\n",
    "\n",
    "def elu(x,gamma):\n",
    "    x = np.where(x>0,x,gamma*(np.exp(x)-1))\n",
    "    return x\n",
    "    \n",
    "def softmax(x):\n",
    "    \"\"\"Compute softmax values for each sets of scores in x.\"\"\"\n",
    "    # e_x = np.exp(x)\n",
    "    e_x = np.exp(x)\n",
    "    return e_x / e_x.sum()"
   ]
  },
  {
   "cell_type": "code",
   "execution_count": null,
   "metadata": {},
   "outputs": [],
   "source": [
    "import matplotlib.pyplot as plt\n",
    "x = np.linspace(-5,5)\n",
    "plt.grid()\n",
    "plt.plot(x,sigmoid(x),color='black')\n",
    "plt.title('Sigmoid')"
   ]
  },
  {
   "cell_type": "code",
   "execution_count": null,
   "metadata": {},
   "outputs": [],
   "source": [
    "plt.plot(x,tanh(x),color='black')\n",
    "plt.title('tanh')"
   ]
  },
  {
   "cell_type": "code",
   "execution_count": null,
   "metadata": {},
   "outputs": [],
   "source": [
    "plt.plot(x,relu(x),color='black')\n",
    "plt.title('Relu')"
   ]
  },
  {
   "cell_type": "code",
   "execution_count": null,
   "metadata": {},
   "outputs": [],
   "source": [
    "plt.plot(x,leakyrelu(x,0.1),color='black')\n",
    "plt.title('LeakyRelu')"
   ]
  },
  {
   "cell_type": "code",
   "execution_count": null,
   "metadata": {},
   "outputs": [],
   "source": [
    "plt.plot(x,elu(x,0.1),color='black')\n",
    "plt.title('ERelu')"
   ]
  },
  {
   "cell_type": "code",
   "execution_count": null,
   "metadata": {},
   "outputs": [],
   "source": [
    "x = np.array([-3, 2, -1, 0])\n",
    "res = softmax(x )\n",
    "print(res)\t"
   ]
  }
 ],
 "metadata": {
  "kernelspec": {
   "display_name": "Python 3.8.5 ('base')",
   "language": "python",
   "name": "python3"
  },
  "language_info": {
   "codemirror_mode": {
    "name": "ipython",
    "version": 3
   },
   "file_extension": ".py",
   "mimetype": "text/x-python",
   "name": "python",
   "nbconvert_exporter": "python",
   "pygments_lexer": "ipython3",
   "version": "3.8.5"
  },
  "orig_nbformat": 4,
  "vscode": {
   "interpreter": {
    "hash": "deee9092494de3f243baafa6e8f13ed865fb0b4f248d8311ed438590712b6c6f"
   }
  }
 },
 "nbformat": 4,
 "nbformat_minor": 2
}
