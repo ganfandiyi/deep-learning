{
 "cells": [
  {
   "cell_type": "code",
   "execution_count": 7,
   "metadata": {},
   "outputs": [
    {
     "name": "stdout",
     "output_type": "stream",
     "text": [
      "真实值： [2 1 2 1 1 2 0 2 2 1 2 2 2 0 0 2 1 1 0 1 2 2 2 2 1 2 2 1 0 0 0 0 2 1 2 1 2\n",
      " 0 1 1 2 2 0 0 1]\n",
      "预测值： [2 1 2 1 1 2 0 2 2 1 2 2 2 0 0 2 1 1 0 1 2 2 2 2 1 2 2 1 0 0 0 0 1 1 2 1 2\n",
      " 0 1 1 2 2 0 0 1]\n",
      "准确度： 0.9777777777777777\n"
     ]
    }
   ],
   "source": [
    "from sklearn.datasets import load_iris\n",
    "from sklearn.datasets import load_wine\n",
    "from sklearn.model_selection import train_test_split\n",
    "from sklearn import svm\n",
    "from sklearn.tree import DecisionTreeClassifier\n",
    "from sklearn.ensemble import GradientBoostingClassifier\n",
    "from sklearn.linear_model import LogisticRegression\n",
    "from mlxtend.classifier import StackingCVClassifier\n",
    "from sklearn.metrics import accuracy_score\n",
    "\n",
    "iris_sample = load_iris()\n",
    "x = iris_sample.data\n",
    "y = iris_sample.target\n",
    "'''\n",
    "wine = load_wine()\n",
    "x = wine.data\n",
    "y = wine.target\n",
    "'''\n",
    "x_train, x_test, y_train, y_test = train_test_split(\n",
    "    x, y, test_size=0.25, random_state=123)\n",
    "\n",
    "svclf = svm.SVC(kernel='rbf', decision_function_shape='ovr', random_state=123)\n",
    "treeclf = DecisionTreeClassifier()\n",
    "gbdtclf = GradientBoostingClassifier(learning_rate=0.7)\n",
    "lrclf = LogisticRegression()\n",
    "\n",
    "scclf = StackingCVClassifier(\n",
    "    classifiers=[svclf, treeclf, gbdtclf], meta_classifier=lrclf, cv=5)\n",
    "scclf.fit(x_train, y_train)\n",
    "scclf_pre = scclf.predict(x_test)\n",
    "\n",
    "print('真实值：', y_test)\n",
    "print('预测值：', scclf_pre)\n",
    "print('准确度：', accuracy_score(scclf_pre, y_test))"
   ]
  },
  {
   "cell_type": "code",
   "execution_count": 9,
   "metadata": {},
   "outputs": [
    {
     "name": "stdout",
     "output_type": "stream",
     "text": [
      "真实值： [2 1 2 1 1 2 0 2 2 1 2 2 2 0 0 2 1 1 0 1 2 2 2 2 1 2 2 1 0 0 0 0 2 1 2 1 2\n",
      " 0 1 1 2 2 0 0 1]\n",
      "预测值： [2 1 2 1 1 2 0 2 2 1 2 2 2 0 0 2 1 1 0 1 2 2 2 2 1 2 2 0 0 0 0 0 2 1 2 1 2\n",
      " 0 1 1 2 2 0 0 1]\n",
      "准确度： 0.9777777777777777\n"
     ]
    }
   ],
   "source": [
    "from sklearn.tree import DecisionTreeClassifier\n",
    "tclf = DecisionTreeClassifier()\n",
    "tclf.fit(x_train, y_train)\n",
    "tclf_pre = tclf.predict(x_test)\n",
    "print('真实值：', y_test)\n",
    "print('预测值：', tclf_pre)\n",
    "print('准确度：', accuracy_score(tclf_pre, y_test))"
   ]
  }
 ],
 "metadata": {
  "kernelspec": {
   "display_name": "Python 3.8.5 ('base')",
   "language": "python",
   "name": "python3"
  },
  "language_info": {
   "codemirror_mode": {
    "name": "ipython",
    "version": 3
   },
   "file_extension": ".py",
   "mimetype": "text/x-python",
   "name": "python",
   "nbconvert_exporter": "python",
   "pygments_lexer": "ipython3",
   "version": "3.8.5"
  },
  "orig_nbformat": 4,
  "vscode": {
   "interpreter": {
    "hash": "deee9092494de3f243baafa6e8f13ed865fb0b4f248d8311ed438590712b6c6f"
   }
  }
 },
 "nbformat": 4,
 "nbformat_minor": 2
}
